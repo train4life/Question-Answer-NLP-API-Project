{
 "cells": [
  {
   "cell_type": "markdown",
   "id": "ffd5a8dd",
   "metadata": {},
   "source": [
    "# Introduction"
   ]
  },
  {
   "cell_type": "markdown",
   "id": "e0c78cd9",
   "metadata": {},
   "source": [
    "### The goal of this project is to fine-tune a pre-existing model to use to get the top 5 answers for a question from a customer"
   ]
  },
  {
   "cell_type": "code",
   "execution_count": 1,
   "id": "d4ca711a",
   "metadata": {},
   "outputs": [
    {
     "name": "stdout",
     "output_type": "stream",
     "text": [
      "Requirement already satisfied: ipywidgets in c:\\users\\15135\\appdata\\local\\anaconda3\\lib\\site-packages (8.1.1)\n",
      "Requirement already satisfied: ipython>=6.1.0 in c:\\users\\15135\\appdata\\local\\anaconda3\\lib\\site-packages (from ipywidgets) (8.15.0)\n",
      "Requirement already satisfied: comm>=0.1.3 in c:\\users\\15135\\appdata\\local\\anaconda3\\lib\\site-packages (from ipywidgets) (0.1.4)\n",
      "Requirement already satisfied: traitlets>=4.3.1 in c:\\users\\15135\\appdata\\local\\anaconda3\\lib\\site-packages (from ipywidgets) (5.7.1)\n",
      "Requirement already satisfied: jupyterlab-widgets~=3.0.9 in c:\\users\\15135\\appdata\\local\\anaconda3\\lib\\site-packages (from ipywidgets) (3.0.9)\n",
      "Requirement already satisfied: widgetsnbextension~=4.0.9 in c:\\users\\15135\\appdata\\local\\anaconda3\\lib\\site-packages (from ipywidgets) (4.0.9)\n",
      "Requirement already satisfied: prompt-toolkit!=3.0.37,<3.1.0,>=3.0.30 in c:\\users\\15135\\appdata\\local\\anaconda3\\lib\\site-packages (from ipython>=6.1.0->ipywidgets) (3.0.36)\n",
      "Requirement already satisfied: backcall in c:\\users\\15135\\appdata\\local\\anaconda3\\lib\\site-packages (from ipython>=6.1.0->ipywidgets) (0.2.0)\n",
      "Requirement already satisfied: jedi>=0.16 in c:\\users\\15135\\appdata\\local\\anaconda3\\lib\\site-packages (from ipython>=6.1.0->ipywidgets) (0.18.1)\n",
      "Requirement already satisfied: pygments>=2.4.0 in c:\\users\\15135\\appdata\\local\\anaconda3\\lib\\site-packages (from ipython>=6.1.0->ipywidgets) (2.15.1)\n",
      "Requirement already satisfied: stack-data in c:\\users\\15135\\appdata\\local\\anaconda3\\lib\\site-packages (from ipython>=6.1.0->ipywidgets) (0.2.0)\n",
      "Requirement already satisfied: pickleshare in c:\\users\\15135\\appdata\\local\\anaconda3\\lib\\site-packages (from ipython>=6.1.0->ipywidgets) (0.7.5)\n",
      "Requirement already satisfied: decorator in c:\\users\\15135\\appdata\\local\\anaconda3\\lib\\site-packages (from ipython>=6.1.0->ipywidgets) (5.1.1)\n",
      "Requirement already satisfied: exceptiongroup in c:\\users\\15135\\appdata\\local\\anaconda3\\lib\\site-packages (from ipython>=6.1.0->ipywidgets) (1.0.4)\n",
      "Requirement already satisfied: colorama in c:\\users\\15135\\appdata\\local\\anaconda3\\lib\\site-packages (from ipython>=6.1.0->ipywidgets) (0.4.6)\n",
      "Requirement already satisfied: matplotlib-inline in c:\\users\\15135\\appdata\\local\\anaconda3\\lib\\site-packages (from ipython>=6.1.0->ipywidgets) (0.1.6)\n",
      "Requirement already satisfied: parso<0.9.0,>=0.8.0 in c:\\users\\15135\\appdata\\local\\anaconda3\\lib\\site-packages (from jedi>=0.16->ipython>=6.1.0->ipywidgets) (0.8.3)\n",
      "Requirement already satisfied: wcwidth in c:\\users\\15135\\appdata\\local\\anaconda3\\lib\\site-packages (from prompt-toolkit!=3.0.37,<3.1.0,>=3.0.30->ipython>=6.1.0->ipywidgets) (0.2.5)\n",
      "Requirement already satisfied: asttokens in c:\\users\\15135\\appdata\\local\\anaconda3\\lib\\site-packages (from stack-data->ipython>=6.1.0->ipywidgets) (2.0.5)\n",
      "Requirement already satisfied: pure-eval in c:\\users\\15135\\appdata\\local\\anaconda3\\lib\\site-packages (from stack-data->ipython>=6.1.0->ipywidgets) (0.2.2)\n",
      "Requirement already satisfied: executing in c:\\users\\15135\\appdata\\local\\anaconda3\\lib\\site-packages (from stack-data->ipython>=6.1.0->ipywidgets) (0.8.3)\n",
      "Requirement already satisfied: six in c:\\users\\15135\\appdata\\local\\anaconda3\\lib\\site-packages (from asttokens->stack-data->ipython>=6.1.0->ipywidgets) (1.16.0)\n"
     ]
    }
   ],
   "source": [
    "!pip install ipywidgets"
   ]
  },
  {
   "cell_type": "code",
   "execution_count": 2,
   "id": "500af9e7",
   "metadata": {},
   "outputs": [
    {
     "name": "stdout",
     "output_type": "stream",
     "text": [
      "Requirement already satisfied: pandas in c:\\users\\15135\\appdata\\local\\anaconda3\\lib\\site-packages (2.1.1)\n",
      "Requirement already satisfied: python-dateutil>=2.8.2 in c:\\users\\15135\\appdata\\local\\anaconda3\\lib\\site-packages (from pandas) (2.8.2)\n",
      "Requirement already satisfied: tzdata>=2022.1 in c:\\users\\15135\\appdata\\local\\anaconda3\\lib\\site-packages (from pandas) (2023.3)\n",
      "Requirement already satisfied: pytz>=2020.1 in c:\\users\\15135\\appdata\\local\\anaconda3\\lib\\site-packages (from pandas) (2022.7)\n",
      "Requirement already satisfied: numpy>=1.22.4 in c:\\users\\15135\\appdata\\local\\anaconda3\\lib\\site-packages (from pandas) (1.25.2)\n",
      "Requirement already satisfied: six>=1.5 in c:\\users\\15135\\appdata\\local\\anaconda3\\lib\\site-packages (from python-dateutil>=2.8.2->pandas) (1.16.0)\n"
     ]
    }
   ],
   "source": [
    "!pip install pandas"
   ]
  },
  {
   "cell_type": "code",
   "execution_count": 3,
   "id": "ae2fcf60",
   "metadata": {},
   "outputs": [
    {
     "name": "stdout",
     "output_type": "stream",
     "text": [
      "Requirement already satisfied: wordcloud in c:\\users\\15135\\appdata\\local\\anaconda3\\lib\\site-packages (1.9.2)\n",
      "Requirement already satisfied: matplotlib in c:\\users\\15135\\appdata\\local\\anaconda3\\lib\\site-packages (from wordcloud) (3.7.2)\n",
      "Requirement already satisfied: pillow in c:\\users\\15135\\appdata\\local\\anaconda3\\lib\\site-packages (from wordcloud) (9.4.0)\n",
      "Requirement already satisfied: numpy>=1.6.1 in c:\\users\\15135\\appdata\\local\\anaconda3\\lib\\site-packages (from wordcloud) (1.25.2)\n",
      "Requirement already satisfied: kiwisolver>=1.0.1 in c:\\users\\15135\\appdata\\local\\anaconda3\\lib\\site-packages (from matplotlib->wordcloud) (1.4.4)\n",
      "Requirement already satisfied: packaging>=20.0 in c:\\users\\15135\\appdata\\local\\anaconda3\\lib\\site-packages (from matplotlib->wordcloud) (23.1)\n",
      "Requirement already satisfied: python-dateutil>=2.7 in c:\\users\\15135\\appdata\\local\\anaconda3\\lib\\site-packages (from matplotlib->wordcloud) (2.8.2)\n",
      "Requirement already satisfied: contourpy>=1.0.1 in c:\\users\\15135\\appdata\\local\\anaconda3\\lib\\site-packages (from matplotlib->wordcloud) (1.0.5)\n",
      "Requirement already satisfied: cycler>=0.10 in c:\\users\\15135\\appdata\\local\\anaconda3\\lib\\site-packages (from matplotlib->wordcloud) (0.11.0)\n",
      "Requirement already satisfied: pyparsing<3.1,>=2.3.1 in c:\\users\\15135\\appdata\\local\\anaconda3\\lib\\site-packages (from matplotlib->wordcloud) (3.0.9)\n",
      "Requirement already satisfied: fonttools>=4.22.0 in c:\\users\\15135\\appdata\\local\\anaconda3\\lib\\site-packages (from matplotlib->wordcloud) (4.25.0)\n",
      "Requirement already satisfied: six>=1.5 in c:\\users\\15135\\appdata\\local\\anaconda3\\lib\\site-packages (from python-dateutil>=2.7->matplotlib->wordcloud) (1.16.0)\n"
     ]
    }
   ],
   "source": [
    "!pip install wordcloud"
   ]
  },
  {
   "cell_type": "markdown",
   "id": "48470f5e",
   "metadata": {},
   "source": [
    "#### Importing Modules"
   ]
  },
  {
   "cell_type": "code",
   "execution_count": 4,
   "id": "b9cda2e7",
   "metadata": {},
   "outputs": [],
   "source": [
    "import pandas as pd\n",
    "import numpy as np\n",
    "from nltk.corpus import stopwords\n",
    "import re\n",
    "from wordcloud import WordCloud, STOPWORDS \n",
    "import matplotlib.pyplot as plt\n",
    "from sklearn.model_selection import train_test_split\n",
    "from transformers import (GPT2Config,GPT2LMHeadModel,GPT2Tokenizer)\n",
    "import torch\n",
    "from string import punctuation as pnc\n",
    "from collections import Counter\n",
    "from scipy import spatial\n",
    "from bs4 import BeautifulSoup\n",
    "from tqdm.notebook import tqdm\n",
    "import torch\n",
    "import pylab as pl\n",
    "import torch\n",
    "from transformers import BertForQuestionAnswering, BertTokenizer\n",
    "from multiprocessing import Pool"
   ]
  },
  {
   "cell_type": "code",
   "execution_count": 5,
   "id": "bab28e1e",
   "metadata": {},
   "outputs": [],
   "source": [
    "# function to determine if columns in file have null values\n",
    "def get_percent_of_na(df, num):\n",
    "    count = 0\n",
    "    df = df.copy()\n",
    "    s = (df.isna().sum() / df.shape[0])\n",
    "    for column, percent in zip(s.index, s.values):\n",
    "        num_of_nulls = df[column].isna().sum()\n",
    "        if num_of_nulls == 0:\n",
    "            continue\n",
    "        else:\n",
    "            count += 1\n",
    "        print('Column {} has {:.{}%} percent of Nulls, and {} of nulls'.format(column, percent, num, num_of_nulls))\n",
    "    if count != 0:\n",
    "        print(\"\\033[1m\" + 'There are {} columns with NA.'.format(count) + \"\\033[0m\")\n",
    "    else:\n",
    "        print()\n",
    "        print(\"\\033[1m\" + 'There are no columns with NA.' + \"\\033[0m\")\n",
    "        \n",
    "# function to display general information about the dataset\n",
    "def get_info(df):\n",
    "    \"\"\"\n",
    "    This function uses the head(), info(), describe(), shape() and duplicated() \n",
    "    methods to display the general information about the dataset.\n",
    "    \"\"\"\n",
    "    print(\"\\033[1m\" + '-'*100 + \"\\033[0m\")\n",
    "    print('Head:')\n",
    "    print()\n",
    "    display(df.head())\n",
    "    print('-'*100)\n",
    "    print('Info:')\n",
    "    print()\n",
    "    display(df.info())\n",
    "    print('-'*100)\n",
    "    print('Describe:')\n",
    "    print()\n",
    "    display(df.describe())\n",
    "    print('-'*100)\n",
    "    display(df.describe)\n",
    "    print()\n",
    "    print('Columns with nulls:')\n",
    "    display(get_percent_of_na(df, 4))  # check this out\n",
    "    print('-'*100)\n",
    "    print('Shape:')\n",
    "    print(df.shape)\n",
    "    print('-'*100)\n",
    "    print('Duplicated:')\n",
    "    print(\"\\033[1m\" + 'We have {} duplicated rows.\\n'.format(df.duplicated().sum()) + \"\\033[0m\")"
   ]
  },
  {
   "cell_type": "code",
   "execution_count": 6,
   "id": "69306a0a",
   "metadata": {},
   "outputs": [],
   "source": [
    "def clean_paragraph(paragraph):\n",
    "    # Remove HTML tags using BeautifulSoup\n",
    "    cleaned_text = BeautifulSoup(paragraph, 'html.parser').get_text()\n",
    "\n",
    "    # Remove extra whitespaces and newline characters\n",
    "    cleaned_text = ' '.join(cleaned_text.split())\n",
    "\n",
    "    return cleaned_text\n",
    "\n",
    "def clear_text(text):\n",
    "    \n",
    "    pattern = r\"[^a-zA-Z']\"\n",
    "    text = re.sub(pattern, ' ', text)\n",
    "    text = text.split()\n",
    "    text = ' '.join(text)\n",
    "    return text\n",
    "\n",
    "def lemmatize(text):\n",
    "\n",
    "    doc = nlp(text.lower())\n",
    "    \n",
    "    lemmas = []\n",
    "    for token in doc:\n",
    "        lemmas.append(token.lemma_)\n",
    "        \n",
    "    return ' '.join(lemmas)\n",
    "\n",
    "def clean_text(text):\n",
    "    text = re.sub(r\"http[s]?://\\S+\", \"\", text)\n",
    "    text = re.sub(r\"<.*?>\", \"\", text)  # Modified regex to remove all HTML tags\n",
    "    text = re.sub(r\"\\r\\n|\\n|\\t\", \"\", text)\n",
    "    text = re.sub(r\"[^a-zA-Z0-9\\s]\", \"\", text)\n",
    "    doc = nlp(text)\n",
    "    words = [token.lemma_ for token in doc if not token.is_stop]\n",
    "    return \" \".join(words)"
   ]
  },
  {
   "cell_type": "markdown",
   "id": "5ffa3483",
   "metadata": {},
   "source": [
    "Importing and viewing the Questions Dataframe"
   ]
  },
  {
   "cell_type": "code",
   "execution_count": 7,
   "id": "2cd864a1",
   "metadata": {},
   "outputs": [
    {
     "name": "stdout",
     "output_type": "stream",
     "text": [
      "questiondf_length: 607282\n"
     ]
    },
    {
     "data": {
      "text/html": [
       "<div>\n",
       "<style scoped>\n",
       "    .dataframe tbody tr th:only-of-type {\n",
       "        vertical-align: middle;\n",
       "    }\n",
       "\n",
       "    .dataframe tbody tr th {\n",
       "        vertical-align: top;\n",
       "    }\n",
       "\n",
       "    .dataframe thead th {\n",
       "        text-align: right;\n",
       "    }\n",
       "</style>\n",
       "<table border=\"1\" class=\"dataframe\">\n",
       "  <thead>\n",
       "    <tr style=\"text-align: right;\">\n",
       "      <th></th>\n",
       "      <th>Id</th>\n",
       "      <th>OwnerUserId</th>\n",
       "      <th>CreationDate</th>\n",
       "      <th>Score</th>\n",
       "      <th>Title</th>\n",
       "      <th>Body</th>\n",
       "    </tr>\n",
       "  </thead>\n",
       "  <tbody>\n",
       "    <tr>\n",
       "      <th>0</th>\n",
       "      <td>469</td>\n",
       "      <td>147.0</td>\n",
       "      <td>2008-08-02T15:11:16Z</td>\n",
       "      <td>21</td>\n",
       "      <td>How can I find the full path to a font from it...</td>\n",
       "      <td>&lt;p&gt;I am using the Photoshop's javascript API t...</td>\n",
       "    </tr>\n",
       "    <tr>\n",
       "      <th>1</th>\n",
       "      <td>502</td>\n",
       "      <td>147.0</td>\n",
       "      <td>2008-08-02T17:01:58Z</td>\n",
       "      <td>27</td>\n",
       "      <td>Get a preview JPEG of a PDF on Windows?</td>\n",
       "      <td>&lt;p&gt;I have a cross-platform (Python) applicatio...</td>\n",
       "    </tr>\n",
       "    <tr>\n",
       "      <th>2</th>\n",
       "      <td>535</td>\n",
       "      <td>154.0</td>\n",
       "      <td>2008-08-02T18:43:54Z</td>\n",
       "      <td>40</td>\n",
       "      <td>Continuous Integration System for a Python Cod...</td>\n",
       "      <td>&lt;p&gt;I'm starting work on a hobby project with a...</td>\n",
       "    </tr>\n",
       "    <tr>\n",
       "      <th>3</th>\n",
       "      <td>594</td>\n",
       "      <td>116.0</td>\n",
       "      <td>2008-08-03T01:15:08Z</td>\n",
       "      <td>25</td>\n",
       "      <td>cx_Oracle: How do I iterate over a result set?</td>\n",
       "      <td>&lt;p&gt;There are several ways to iterate over a re...</td>\n",
       "    </tr>\n",
       "    <tr>\n",
       "      <th>4</th>\n",
       "      <td>683</td>\n",
       "      <td>199.0</td>\n",
       "      <td>2008-08-03T13:19:16Z</td>\n",
       "      <td>28</td>\n",
       "      <td>Using 'in' to match an attribute of Python obj...</td>\n",
       "      <td>&lt;p&gt;I don't remember whether I was dreaming or ...</td>\n",
       "    </tr>\n",
       "  </tbody>\n",
       "</table>\n",
       "</div>"
      ],
      "text/plain": [
       "    Id  OwnerUserId          CreationDate  Score  \\\n",
       "0  469        147.0  2008-08-02T15:11:16Z     21   \n",
       "1  502        147.0  2008-08-02T17:01:58Z     27   \n",
       "2  535        154.0  2008-08-02T18:43:54Z     40   \n",
       "3  594        116.0  2008-08-03T01:15:08Z     25   \n",
       "4  683        199.0  2008-08-03T13:19:16Z     28   \n",
       "\n",
       "                                               Title  \\\n",
       "0  How can I find the full path to a font from it...   \n",
       "1            Get a preview JPEG of a PDF on Windows?   \n",
       "2  Continuous Integration System for a Python Cod...   \n",
       "3     cx_Oracle: How do I iterate over a result set?   \n",
       "4  Using 'in' to match an attribute of Python obj...   \n",
       "\n",
       "                                                Body  \n",
       "0  <p>I am using the Photoshop's javascript API t...  \n",
       "1  <p>I have a cross-platform (Python) applicatio...  \n",
       "2  <p>I'm starting work on a hobby project with a...  \n",
       "3  <p>There are several ways to iterate over a re...  \n",
       "4  <p>I don't remember whether I was dreaming or ...  "
      ]
     },
     "execution_count": 7,
     "metadata": {},
     "output_type": "execute_result"
    }
   ],
   "source": [
    "questions = pd.read_csv(\"Questions.csv\", encoding = \"ISO-8859-1\")\n",
    "print(f'questiondf_length: {len(questions)}')\n",
    "questions.head()\n"
   ]
  },
  {
   "cell_type": "code",
   "execution_count": 8,
   "id": "db43526d",
   "metadata": {},
   "outputs": [
    {
     "name": "stdout",
     "output_type": "stream",
     "text": [
      "<class 'pandas.core.frame.DataFrame'>\n",
      "RangeIndex: 607282 entries, 0 to 607281\n",
      "Data columns (total 6 columns):\n",
      " #   Column        Non-Null Count   Dtype  \n",
      "---  ------        --------------   -----  \n",
      " 0   Id            607282 non-null  int64  \n",
      " 1   OwnerUserId   601070 non-null  float64\n",
      " 2   CreationDate  607282 non-null  object \n",
      " 3   Score         607282 non-null  int64  \n",
      " 4   Title         607282 non-null  object \n",
      " 5   Body          607282 non-null  object \n",
      "dtypes: float64(1), int64(2), object(3)\n",
      "memory usage: 27.8+ MB\n"
     ]
    }
   ],
   "source": [
    "questions.info()"
   ]
  },
  {
   "cell_type": "markdown",
   "id": "d701d22f",
   "metadata": {},
   "source": [
    "Converting CreationDate to DateTime"
   ]
  },
  {
   "cell_type": "code",
   "execution_count": 9,
   "id": "add5517d",
   "metadata": {},
   "outputs": [],
   "source": [
    "questions[\"CreationDate\"] = pd.to_datetime(questions[\"CreationDate\"])"
   ]
  },
  {
   "cell_type": "markdown",
   "id": "8a98a14a",
   "metadata": {},
   "source": [
    "Viewing the Null values in the Questions Dataframe"
   ]
  },
  {
   "cell_type": "code",
   "execution_count": 10,
   "id": "86cd9562",
   "metadata": {},
   "outputs": [
    {
     "data": {
      "text/plain": [
       "Id                 0\n",
       "OwnerUserId     6212\n",
       "CreationDate       0\n",
       "Score              0\n",
       "Title              0\n",
       "Body               0\n",
       "dtype: int64"
      ]
     },
     "execution_count": 10,
     "metadata": {},
     "output_type": "execute_result"
    }
   ],
   "source": [
    "questions.isna().sum()"
   ]
  },
  {
   "cell_type": "markdown",
   "id": "b6c86811",
   "metadata": {},
   "source": [
    "Dropping the null values in the dataset since they are just over 1% of our dataset. Therefore, it won't affect the dataframe enough to significantly skew our model. Once dropped, we can see which OwnerUserId goes with which OwnerUserID in the Answers Dataframe."
   ]
  },
  {
   "cell_type": "code",
   "execution_count": 11,
   "id": "9d864fbe",
   "metadata": {},
   "outputs": [],
   "source": [
    "questions = questions.dropna().reset_index(drop=True)"
   ]
  },
  {
   "cell_type": "markdown",
   "id": "b67d4a3d",
   "metadata": {},
   "source": [
    "Sanity Check"
   ]
  },
  {
   "cell_type": "code",
   "execution_count": 12,
   "id": "32e5ba8f",
   "metadata": {},
   "outputs": [
    {
     "data": {
      "text/plain": [
       "Id              0\n",
       "OwnerUserId     0\n",
       "CreationDate    0\n",
       "Score           0\n",
       "Title           0\n",
       "Body            0\n",
       "dtype: int64"
      ]
     },
     "execution_count": 12,
     "metadata": {},
     "output_type": "execute_result"
    }
   ],
   "source": [
    "questions.isna().sum()"
   ]
  },
  {
   "cell_type": "code",
   "execution_count": 13,
   "id": "bf11c3fb",
   "metadata": {},
   "outputs": [],
   "source": [
    "questions = questions.drop_duplicates().reset_index(drop=True)"
   ]
  },
  {
   "cell_type": "code",
   "execution_count": 14,
   "id": "43ab02f4",
   "metadata": {},
   "outputs": [
    {
     "data": {
      "text/plain": [
       "601070"
      ]
     },
     "execution_count": 14,
     "metadata": {},
     "output_type": "execute_result"
    }
   ],
   "source": [
    "len(questions)"
   ]
  },
  {
   "cell_type": "code",
   "execution_count": 15,
   "id": "e3b83d4b",
   "metadata": {
    "scrolled": false
   },
   "outputs": [],
   "source": [
    "questions[\"cleaned_questions\"] = questions['Body'].apply(clean_paragraph)"
   ]
  },
  {
   "cell_type": "code",
   "execution_count": 16,
   "id": "bba05215",
   "metadata": {},
   "outputs": [
    {
     "name": "stderr",
     "output_type": "stream",
     "text": [
      "C:\\Users\\15135\\AppData\\Local\\Temp\\ipykernel_27556\\1815705739.py:3: MarkupResemblesLocatorWarning: The input looks more like a filename than markup. You may want to open this file and pass the filehandle into Beautiful Soup.\n",
      "  cleaned_text = BeautifulSoup(paragraph, 'html.parser').get_text()\n",
      "C:\\Users\\15135\\AppData\\Local\\Temp\\ipykernel_27556\\1815705739.py:3: MarkupResemblesLocatorWarning: The input looks more like a URL than markup. You may want to use an HTTP client like requests to get the document behind the URL, and feed that document to Beautiful Soup.\n",
      "  cleaned_text = BeautifulSoup(paragraph, 'html.parser').get_text()\n"
     ]
    }
   ],
   "source": [
    "questions[\"cleaned_title\"] = questions['Title'].apply(clean_paragraph)"
   ]
  },
  {
   "cell_type": "code",
   "execution_count": 17,
   "id": "1e1bda5f",
   "metadata": {},
   "outputs": [
    {
     "data": {
      "text/plain": [
       "'I have a cross-platform (Python) application which needs to generate a JPEG preview of the first page of a PDF. On the Mac I am spawning sips. Is there something similarly simple I can do on Windows?'"
      ]
     },
     "execution_count": 17,
     "metadata": {},
     "output_type": "execute_result"
    }
   ],
   "source": [
    "questions['cleaned_questions'][1]"
   ]
  },
  {
   "cell_type": "code",
   "execution_count": 18,
   "id": "fbc106a9",
   "metadata": {},
   "outputs": [
    {
     "data": {
      "text/plain": [
       "'Get a preview JPEG of a PDF on Windows?'"
      ]
     },
     "execution_count": 18,
     "metadata": {},
     "output_type": "execute_result"
    }
   ],
   "source": [
    "questions['cleaned_title'][1]"
   ]
  },
  {
   "cell_type": "markdown",
   "id": "a64270c2",
   "metadata": {},
   "source": [
    "Importing and viewing the answers dataframe"
   ]
  },
  {
   "cell_type": "code",
   "execution_count": 19,
   "id": "b7f438de",
   "metadata": {
    "scrolled": true
   },
   "outputs": [
    {
     "name": "stdout",
     "output_type": "stream",
     "text": [
      "answerdf_length: 987122\n"
     ]
    },
    {
     "data": {
      "text/html": [
       "<div>\n",
       "<style scoped>\n",
       "    .dataframe tbody tr th:only-of-type {\n",
       "        vertical-align: middle;\n",
       "    }\n",
       "\n",
       "    .dataframe tbody tr th {\n",
       "        vertical-align: top;\n",
       "    }\n",
       "\n",
       "    .dataframe thead th {\n",
       "        text-align: right;\n",
       "    }\n",
       "</style>\n",
       "<table border=\"1\" class=\"dataframe\">\n",
       "  <thead>\n",
       "    <tr style=\"text-align: right;\">\n",
       "      <th></th>\n",
       "      <th>Id</th>\n",
       "      <th>OwnerUserId</th>\n",
       "      <th>CreationDate</th>\n",
       "      <th>ParentId</th>\n",
       "      <th>Score</th>\n",
       "      <th>Body</th>\n",
       "    </tr>\n",
       "  </thead>\n",
       "  <tbody>\n",
       "    <tr>\n",
       "      <th>0</th>\n",
       "      <td>497</td>\n",
       "      <td>50.0</td>\n",
       "      <td>2008-08-02T16:56:53Z</td>\n",
       "      <td>469</td>\n",
       "      <td>4</td>\n",
       "      <td>&lt;p&gt;open up a terminal (Applications-&amp;gt;Utilit...</td>\n",
       "    </tr>\n",
       "    <tr>\n",
       "      <th>1</th>\n",
       "      <td>518</td>\n",
       "      <td>153.0</td>\n",
       "      <td>2008-08-02T17:42:28Z</td>\n",
       "      <td>469</td>\n",
       "      <td>2</td>\n",
       "      <td>&lt;p&gt;I haven't been able to find anything that d...</td>\n",
       "    </tr>\n",
       "    <tr>\n",
       "      <th>2</th>\n",
       "      <td>536</td>\n",
       "      <td>161.0</td>\n",
       "      <td>2008-08-02T18:49:07Z</td>\n",
       "      <td>502</td>\n",
       "      <td>9</td>\n",
       "      <td>&lt;p&gt;You can use ImageMagick's convert utility f...</td>\n",
       "    </tr>\n",
       "    <tr>\n",
       "      <th>3</th>\n",
       "      <td>538</td>\n",
       "      <td>156.0</td>\n",
       "      <td>2008-08-02T18:56:56Z</td>\n",
       "      <td>535</td>\n",
       "      <td>23</td>\n",
       "      <td>&lt;p&gt;One possibility is Hudson.  It's written in...</td>\n",
       "    </tr>\n",
       "    <tr>\n",
       "      <th>4</th>\n",
       "      <td>541</td>\n",
       "      <td>157.0</td>\n",
       "      <td>2008-08-02T19:06:40Z</td>\n",
       "      <td>535</td>\n",
       "      <td>20</td>\n",
       "      <td>&lt;p&gt;We run &lt;a href=\"http://buildbot.net/trac\"&gt;B...</td>\n",
       "    </tr>\n",
       "  </tbody>\n",
       "</table>\n",
       "</div>"
      ],
      "text/plain": [
       "    Id  OwnerUserId          CreationDate  ParentId  Score  \\\n",
       "0  497         50.0  2008-08-02T16:56:53Z       469      4   \n",
       "1  518        153.0  2008-08-02T17:42:28Z       469      2   \n",
       "2  536        161.0  2008-08-02T18:49:07Z       502      9   \n",
       "3  538        156.0  2008-08-02T18:56:56Z       535     23   \n",
       "4  541        157.0  2008-08-02T19:06:40Z       535     20   \n",
       "\n",
       "                                                Body  \n",
       "0  <p>open up a terminal (Applications-&gt;Utilit...  \n",
       "1  <p>I haven't been able to find anything that d...  \n",
       "2  <p>You can use ImageMagick's convert utility f...  \n",
       "3  <p>One possibility is Hudson.  It's written in...  \n",
       "4  <p>We run <a href=\"http://buildbot.net/trac\">B...  "
      ]
     },
     "execution_count": 19,
     "metadata": {},
     "output_type": "execute_result"
    }
   ],
   "source": [
    "answers = pd.read_csv(\"Answers.csv\", encoding = \"ISO-8859-1\")\n",
    "print(f'answerdf_length: {len(answers)}')\n",
    "answers.head()\n"
   ]
  },
  {
   "cell_type": "code",
   "execution_count": 20,
   "id": "00f5e0b6",
   "metadata": {},
   "outputs": [
    {
     "name": "stdout",
     "output_type": "stream",
     "text": [
      "<class 'pandas.core.frame.DataFrame'>\n",
      "RangeIndex: 987122 entries, 0 to 987121\n",
      "Data columns (total 6 columns):\n",
      " #   Column        Non-Null Count   Dtype  \n",
      "---  ------        --------------   -----  \n",
      " 0   Id            987122 non-null  int64  \n",
      " 1   OwnerUserId   981755 non-null  float64\n",
      " 2   CreationDate  987122 non-null  object \n",
      " 3   ParentId      987122 non-null  int64  \n",
      " 4   Score         987122 non-null  int64  \n",
      " 5   Body          987122 non-null  object \n",
      "dtypes: float64(1), int64(3), object(2)\n",
      "memory usage: 45.2+ MB\n"
     ]
    }
   ],
   "source": [
    "answers.info()"
   ]
  },
  {
   "cell_type": "code",
   "execution_count": 21,
   "id": "8c531356",
   "metadata": {},
   "outputs": [],
   "source": [
    "answers[\"CreationDate\"] = pd.to_datetime(answers[\"CreationDate\"])"
   ]
  },
  {
   "cell_type": "markdown",
   "id": "4a931ff9",
   "metadata": {},
   "source": [
    "Viewing the Null values in the Questions Dataframe"
   ]
  },
  {
   "cell_type": "code",
   "execution_count": 22,
   "id": "5026b0a5",
   "metadata": {},
   "outputs": [
    {
     "data": {
      "text/plain": [
       "0       0\n",
       "1    5367\n",
       "2       0\n",
       "3       0\n",
       "4       0\n",
       "5       0\n",
       "dtype: int64"
      ]
     },
     "execution_count": 22,
     "metadata": {},
     "output_type": "execute_result"
    }
   ],
   "source": [
    "answers.isna().sum().reset_index(drop=True)"
   ]
  },
  {
   "cell_type": "markdown",
   "id": "7a924e5c",
   "metadata": {},
   "source": [
    "Dropping the null values in the dataset since they are under 1% of our dataset. Therefore, it won't affect the dataframe enough to significantly skew our model. "
   ]
  },
  {
   "cell_type": "code",
   "execution_count": 23,
   "id": "9bea917c",
   "metadata": {},
   "outputs": [],
   "source": [
    "answers_no_nan = answers.dropna().reset_index(drop=True)"
   ]
  },
  {
   "cell_type": "markdown",
   "id": "208328a9",
   "metadata": {},
   "source": [
    "Sanity Check"
   ]
  },
  {
   "cell_type": "code",
   "execution_count": 24,
   "id": "b5356b6d",
   "metadata": {},
   "outputs": [
    {
     "data": {
      "text/plain": [
       "Id                 0\n",
       "OwnerUserId     5367\n",
       "CreationDate       0\n",
       "ParentId           0\n",
       "Score              0\n",
       "Body               0\n",
       "dtype: int64"
      ]
     },
     "execution_count": 24,
     "metadata": {},
     "output_type": "execute_result"
    }
   ],
   "source": [
    "answers.isna().sum()"
   ]
  },
  {
   "cell_type": "code",
   "execution_count": 25,
   "id": "21f1d42e",
   "metadata": {},
   "outputs": [],
   "source": [
    "answers = answers.drop_duplicates().reset_index(drop=True)"
   ]
  },
  {
   "cell_type": "code",
   "execution_count": 26,
   "id": "725083ab",
   "metadata": {},
   "outputs": [],
   "source": [
    "answers[\"cleaned_answers\"] = answers['Body'].apply(clean_paragraph)"
   ]
  },
  {
   "cell_type": "code",
   "execution_count": 27,
   "id": "0ced1268",
   "metadata": {},
   "outputs": [
    {
     "data": {
      "text/plain": [
       "\"I haven't been able to find anything that does this directly. I think you'll have to iterate through the various font folders on the system: /System/Library/Fonts, /Library/Fonts, and there can probably be a user-level directory as well ~/Library/Fonts.\""
      ]
     },
     "execution_count": 27,
     "metadata": {},
     "output_type": "execute_result"
    }
   ],
   "source": [
    "answers['cleaned_answers'][1]"
   ]
  },
  {
   "cell_type": "markdown",
   "id": "8d3f7bd8",
   "metadata": {},
   "source": [
    "Importing and viewing the tags dataframe"
   ]
  },
  {
   "cell_type": "code",
   "execution_count": 28,
   "id": "2de5c77f",
   "metadata": {
    "scrolled": true
   },
   "outputs": [
    {
     "name": "stdout",
     "output_type": "stream",
     "text": [
      "tagsdf_length: 1885078\n"
     ]
    },
    {
     "data": {
      "text/html": [
       "<div>\n",
       "<style scoped>\n",
       "    .dataframe tbody tr th:only-of-type {\n",
       "        vertical-align: middle;\n",
       "    }\n",
       "\n",
       "    .dataframe tbody tr th {\n",
       "        vertical-align: top;\n",
       "    }\n",
       "\n",
       "    .dataframe thead th {\n",
       "        text-align: right;\n",
       "    }\n",
       "</style>\n",
       "<table border=\"1\" class=\"dataframe\">\n",
       "  <thead>\n",
       "    <tr style=\"text-align: right;\">\n",
       "      <th></th>\n",
       "      <th>Id</th>\n",
       "      <th>Tag</th>\n",
       "    </tr>\n",
       "  </thead>\n",
       "  <tbody>\n",
       "    <tr>\n",
       "      <th>0</th>\n",
       "      <td>469</td>\n",
       "      <td>python</td>\n",
       "    </tr>\n",
       "    <tr>\n",
       "      <th>1</th>\n",
       "      <td>469</td>\n",
       "      <td>osx</td>\n",
       "    </tr>\n",
       "    <tr>\n",
       "      <th>2</th>\n",
       "      <td>469</td>\n",
       "      <td>fonts</td>\n",
       "    </tr>\n",
       "    <tr>\n",
       "      <th>3</th>\n",
       "      <td>469</td>\n",
       "      <td>photoshop</td>\n",
       "    </tr>\n",
       "    <tr>\n",
       "      <th>4</th>\n",
       "      <td>502</td>\n",
       "      <td>python</td>\n",
       "    </tr>\n",
       "  </tbody>\n",
       "</table>\n",
       "</div>"
      ],
      "text/plain": [
       "    Id        Tag\n",
       "0  469     python\n",
       "1  469        osx\n",
       "2  469      fonts\n",
       "3  469  photoshop\n",
       "4  502     python"
      ]
     },
     "execution_count": 28,
     "metadata": {},
     "output_type": "execute_result"
    }
   ],
   "source": [
    "tags = pd.read_csv(\"Tags.csv\", encoding = \"ISO-8859-1\")\n",
    "print(f'tagsdf_length: {len(tags)}')\n",
    "tags.head()"
   ]
  },
  {
   "cell_type": "code",
   "execution_count": 29,
   "id": "fd344802",
   "metadata": {},
   "outputs": [
    {
     "name": "stdout",
     "output_type": "stream",
     "text": [
      "<class 'pandas.core.frame.DataFrame'>\n",
      "RangeIndex: 1885078 entries, 0 to 1885077\n",
      "Data columns (total 2 columns):\n",
      " #   Column  Dtype \n",
      "---  ------  ----- \n",
      " 0   Id      int64 \n",
      " 1   Tag     object\n",
      "dtypes: int64(1), object(1)\n",
      "memory usage: 28.8+ MB\n"
     ]
    }
   ],
   "source": [
    "tags.info()"
   ]
  },
  {
   "cell_type": "markdown",
   "id": "da0d7de7",
   "metadata": {},
   "source": [
    "Viewing the Null values in the Tags Dataframe"
   ]
  },
  {
   "cell_type": "code",
   "execution_count": 30,
   "id": "4e1cf1ff",
   "metadata": {},
   "outputs": [
    {
     "data": {
      "text/plain": [
       "Id       0\n",
       "Tag    443\n",
       "dtype: int64"
      ]
     },
     "execution_count": 30,
     "metadata": {},
     "output_type": "execute_result"
    }
   ],
   "source": [
    "tags.isna().sum()"
   ]
  },
  {
   "cell_type": "markdown",
   "id": "98f93c34",
   "metadata": {},
   "source": [
    "Dropping the null values in the dataset since they are just over 1% of our dataset. Therefore, it won't affect the dataframe enough to significantly skew our model. "
   ]
  },
  {
   "cell_type": "code",
   "execution_count": 31,
   "id": "e696c42b",
   "metadata": {},
   "outputs": [],
   "source": [
    "tags = tags.dropna().reset_index(drop=True)"
   ]
  },
  {
   "cell_type": "markdown",
   "id": "9c1cd6c6",
   "metadata": {},
   "source": [
    "Sanity Check"
   ]
  },
  {
   "cell_type": "code",
   "execution_count": 32,
   "id": "6ffda16d",
   "metadata": {
    "scrolled": true
   },
   "outputs": [
    {
     "data": {
      "text/plain": [
       "Id     0\n",
       "Tag    0\n",
       "dtype: int64"
      ]
     },
     "execution_count": 32,
     "metadata": {},
     "output_type": "execute_result"
    }
   ],
   "source": [
    "tags.isna().sum()"
   ]
  },
  {
   "cell_type": "code",
   "execution_count": 33,
   "id": "f8d554e7",
   "metadata": {},
   "outputs": [],
   "source": [
    "tags = tags.drop_duplicates().reset_index(drop=True)"
   ]
  },
  {
   "cell_type": "code",
   "execution_count": 34,
   "id": "08a0fc05",
   "metadata": {},
   "outputs": [
    {
     "name": "stderr",
     "output_type": "stream",
     "text": [
      "C:\\Users\\15135\\AppData\\Local\\Temp\\ipykernel_27556\\1815705739.py:3: MarkupResemblesLocatorWarning: The input looks more like a filename than markup. You may want to open this file and pass the filehandle into Beautiful Soup.\n",
      "  cleaned_text = BeautifulSoup(paragraph, 'html.parser').get_text()\n"
     ]
    }
   ],
   "source": [
    "tags['Tag'] = tags['Tag'].apply(clean_paragraph)"
   ]
  },
  {
   "cell_type": "code",
   "execution_count": 35,
   "id": "c7b63be0",
   "metadata": {},
   "outputs": [
    {
     "data": {
      "text/html": [
       "<div>\n",
       "<style scoped>\n",
       "    .dataframe tbody tr th:only-of-type {\n",
       "        vertical-align: middle;\n",
       "    }\n",
       "\n",
       "    .dataframe tbody tr th {\n",
       "        vertical-align: top;\n",
       "    }\n",
       "\n",
       "    .dataframe thead th {\n",
       "        text-align: right;\n",
       "    }\n",
       "</style>\n",
       "<table border=\"1\" class=\"dataframe\">\n",
       "  <thead>\n",
       "    <tr style=\"text-align: right;\">\n",
       "      <th></th>\n",
       "      <th>Id</th>\n",
       "      <th>Tag</th>\n",
       "    </tr>\n",
       "  </thead>\n",
       "  <tbody>\n",
       "    <tr>\n",
       "      <th>0</th>\n",
       "      <td>469</td>\n",
       "      <td>python</td>\n",
       "    </tr>\n",
       "    <tr>\n",
       "      <th>1</th>\n",
       "      <td>469</td>\n",
       "      <td>osx</td>\n",
       "    </tr>\n",
       "    <tr>\n",
       "      <th>2</th>\n",
       "      <td>469</td>\n",
       "      <td>fonts</td>\n",
       "    </tr>\n",
       "    <tr>\n",
       "      <th>3</th>\n",
       "      <td>469</td>\n",
       "      <td>photoshop</td>\n",
       "    </tr>\n",
       "    <tr>\n",
       "      <th>4</th>\n",
       "      <td>502</td>\n",
       "      <td>python</td>\n",
       "    </tr>\n",
       "  </tbody>\n",
       "</table>\n",
       "</div>"
      ],
      "text/plain": [
       "    Id        Tag\n",
       "0  469     python\n",
       "1  469        osx\n",
       "2  469      fonts\n",
       "3  469  photoshop\n",
       "4  502     python"
      ]
     },
     "execution_count": 35,
     "metadata": {},
     "output_type": "execute_result"
    }
   ],
   "source": [
    "tags.head()"
   ]
  },
  {
   "cell_type": "code",
   "execution_count": 36,
   "id": "2415486d",
   "metadata": {
    "scrolled": false
   },
   "outputs": [],
   "source": [
    "merged_df = questions.merge(answers, how='left', left_on='Id', right_on='ParentId', suffixes=(\"_question\", \"_answer\"))"
   ]
  },
  {
   "cell_type": "code",
   "execution_count": 37,
   "id": "5e6b321b",
   "metadata": {
    "scrolled": false
   },
   "outputs": [
    {
     "data": {
      "text/html": [
       "<div>\n",
       "<style scoped>\n",
       "    .dataframe tbody tr th:only-of-type {\n",
       "        vertical-align: middle;\n",
       "    }\n",
       "\n",
       "    .dataframe tbody tr th {\n",
       "        vertical-align: top;\n",
       "    }\n",
       "\n",
       "    .dataframe thead th {\n",
       "        text-align: right;\n",
       "    }\n",
       "</style>\n",
       "<table border=\"1\" class=\"dataframe\">\n",
       "  <thead>\n",
       "    <tr style=\"text-align: right;\">\n",
       "      <th></th>\n",
       "      <th>Id_question</th>\n",
       "      <th>OwnerUserId_question</th>\n",
       "      <th>CreationDate_question</th>\n",
       "      <th>Score_question</th>\n",
       "      <th>Title</th>\n",
       "      <th>Body_question</th>\n",
       "      <th>cleaned_questions</th>\n",
       "      <th>cleaned_title</th>\n",
       "      <th>Id_answer</th>\n",
       "      <th>OwnerUserId_answer</th>\n",
       "      <th>CreationDate_answer</th>\n",
       "      <th>ParentId</th>\n",
       "      <th>Score_answer</th>\n",
       "      <th>Body_answer</th>\n",
       "      <th>cleaned_answers</th>\n",
       "    </tr>\n",
       "  </thead>\n",
       "  <tbody>\n",
       "    <tr>\n",
       "      <th>0</th>\n",
       "      <td>469</td>\n",
       "      <td>147.0</td>\n",
       "      <td>2008-08-02 15:11:16+00:00</td>\n",
       "      <td>21</td>\n",
       "      <td>How can I find the full path to a font from it...</td>\n",
       "      <td>&lt;p&gt;I am using the Photoshop's javascript API t...</td>\n",
       "      <td>I am using the Photoshop's javascript API to f...</td>\n",
       "      <td>How can I find the full path to a font from it...</td>\n",
       "      <td>497.0</td>\n",
       "      <td>50.0</td>\n",
       "      <td>2008-08-02 16:56:53+00:00</td>\n",
       "      <td>469.0</td>\n",
       "      <td>4.0</td>\n",
       "      <td>&lt;p&gt;open up a terminal (Applications-&amp;gt;Utilit...</td>\n",
       "      <td>open up a terminal (Applications-&gt;Utilities-&gt;T...</td>\n",
       "    </tr>\n",
       "    <tr>\n",
       "      <th>1</th>\n",
       "      <td>469</td>\n",
       "      <td>147.0</td>\n",
       "      <td>2008-08-02 15:11:16+00:00</td>\n",
       "      <td>21</td>\n",
       "      <td>How can I find the full path to a font from it...</td>\n",
       "      <td>&lt;p&gt;I am using the Photoshop's javascript API t...</td>\n",
       "      <td>I am using the Photoshop's javascript API to f...</td>\n",
       "      <td>How can I find the full path to a font from it...</td>\n",
       "      <td>518.0</td>\n",
       "      <td>153.0</td>\n",
       "      <td>2008-08-02 17:42:28+00:00</td>\n",
       "      <td>469.0</td>\n",
       "      <td>2.0</td>\n",
       "      <td>&lt;p&gt;I haven't been able to find anything that d...</td>\n",
       "      <td>I haven't been able to find anything that does...</td>\n",
       "    </tr>\n",
       "    <tr>\n",
       "      <th>2</th>\n",
       "      <td>469</td>\n",
       "      <td>147.0</td>\n",
       "      <td>2008-08-02 15:11:16+00:00</td>\n",
       "      <td>21</td>\n",
       "      <td>How can I find the full path to a font from it...</td>\n",
       "      <td>&lt;p&gt;I am using the Photoshop's javascript API t...</td>\n",
       "      <td>I am using the Photoshop's javascript API to f...</td>\n",
       "      <td>How can I find the full path to a font from it...</td>\n",
       "      <td>3040.0</td>\n",
       "      <td>457.0</td>\n",
       "      <td>2008-08-06 03:01:23+00:00</td>\n",
       "      <td>469.0</td>\n",
       "      <td>12.0</td>\n",
       "      <td>&lt;p&gt;Unfortunately the only API that isn't depre...</td>\n",
       "      <td>Unfortunately the only API that isn't deprecat...</td>\n",
       "    </tr>\n",
       "    <tr>\n",
       "      <th>3</th>\n",
       "      <td>469</td>\n",
       "      <td>147.0</td>\n",
       "      <td>2008-08-02 15:11:16+00:00</td>\n",
       "      <td>21</td>\n",
       "      <td>How can I find the full path to a font from it...</td>\n",
       "      <td>&lt;p&gt;I am using the Photoshop's javascript API t...</td>\n",
       "      <td>I am using the Photoshop's javascript API to f...</td>\n",
       "      <td>How can I find the full path to a font from it...</td>\n",
       "      <td>195170.0</td>\n",
       "      <td>745.0</td>\n",
       "      <td>2008-10-12 07:02:40+00:00</td>\n",
       "      <td>469.0</td>\n",
       "      <td>1.0</td>\n",
       "      <td>&lt;p&gt;There must be a method in Cocoa to get a li...</td>\n",
       "      <td>There must be a method in Cocoa to get a list ...</td>\n",
       "    </tr>\n",
       "    <tr>\n",
       "      <th>4</th>\n",
       "      <td>502</td>\n",
       "      <td>147.0</td>\n",
       "      <td>2008-08-02 17:01:58+00:00</td>\n",
       "      <td>27</td>\n",
       "      <td>Get a preview JPEG of a PDF on Windows?</td>\n",
       "      <td>&lt;p&gt;I have a cross-platform (Python) applicatio...</td>\n",
       "      <td>I have a cross-platform (Python) application w...</td>\n",
       "      <td>Get a preview JPEG of a PDF on Windows?</td>\n",
       "      <td>536.0</td>\n",
       "      <td>161.0</td>\n",
       "      <td>2008-08-02 18:49:07+00:00</td>\n",
       "      <td>502.0</td>\n",
       "      <td>9.0</td>\n",
       "      <td>&lt;p&gt;You can use ImageMagick's convert utility f...</td>\n",
       "      <td>You can use ImageMagick's convert utility for ...</td>\n",
       "    </tr>\n",
       "    <tr>\n",
       "      <th>5</th>\n",
       "      <td>502</td>\n",
       "      <td>147.0</td>\n",
       "      <td>2008-08-02 17:01:58+00:00</td>\n",
       "      <td>27</td>\n",
       "      <td>Get a preview JPEG of a PDF on Windows?</td>\n",
       "      <td>&lt;p&gt;I have a cross-platform (Python) applicatio...</td>\n",
       "      <td>I have a cross-platform (Python) application w...</td>\n",
       "      <td>Get a preview JPEG of a PDF on Windows?</td>\n",
       "      <td>7073.0</td>\n",
       "      <td>878.0</td>\n",
       "      <td>2008-08-10 07:10:19+00:00</td>\n",
       "      <td>502.0</td>\n",
       "      <td>2.0</td>\n",
       "      <td>&lt;p&gt;Is the PC likely to have Acrobat installed?...</td>\n",
       "      <td>Is the PC likely to have Acrobat installed? I ...</td>\n",
       "    </tr>\n",
       "    <tr>\n",
       "      <th>6</th>\n",
       "      <td>502</td>\n",
       "      <td>147.0</td>\n",
       "      <td>2008-08-02 17:01:58+00:00</td>\n",
       "      <td>27</td>\n",
       "      <td>Get a preview JPEG of a PDF on Windows?</td>\n",
       "      <td>&lt;p&gt;I have a cross-platform (Python) applicatio...</td>\n",
       "      <td>I have a cross-platform (Python) application w...</td>\n",
       "      <td>Get a preview JPEG of a PDF on Windows?</td>\n",
       "      <td>7090.0</td>\n",
       "      <td>13.0</td>\n",
       "      <td>2008-08-10 08:08:33+00:00</td>\n",
       "      <td>502.0</td>\n",
       "      <td>25.0</td>\n",
       "      <td>&lt;p&gt;ImageMagick delegates the PDF-&gt;bitmap conve...</td>\n",
       "      <td>ImageMagick delegates the PDF-&gt;bitmap conversi...</td>\n",
       "    </tr>\n",
       "    <tr>\n",
       "      <th>7</th>\n",
       "      <td>535</td>\n",
       "      <td>154.0</td>\n",
       "      <td>2008-08-02 18:43:54+00:00</td>\n",
       "      <td>40</td>\n",
       "      <td>Continuous Integration System for a Python Cod...</td>\n",
       "      <td>&lt;p&gt;I'm starting work on a hobby project with a...</td>\n",
       "      <td>I'm starting work on a hobby project with a py...</td>\n",
       "      <td>Continuous Integration System for a Python Cod...</td>\n",
       "      <td>538.0</td>\n",
       "      <td>156.0</td>\n",
       "      <td>2008-08-02 18:56:56+00:00</td>\n",
       "      <td>535.0</td>\n",
       "      <td>23.0</td>\n",
       "      <td>&lt;p&gt;One possibility is Hudson.  It's written in...</td>\n",
       "      <td>One possibility is Hudson. It's written in Jav...</td>\n",
       "    </tr>\n",
       "    <tr>\n",
       "      <th>8</th>\n",
       "      <td>535</td>\n",
       "      <td>154.0</td>\n",
       "      <td>2008-08-02 18:43:54+00:00</td>\n",
       "      <td>40</td>\n",
       "      <td>Continuous Integration System for a Python Cod...</td>\n",
       "      <td>&lt;p&gt;I'm starting work on a hobby project with a...</td>\n",
       "      <td>I'm starting work on a hobby project with a py...</td>\n",
       "      <td>Continuous Integration System for a Python Cod...</td>\n",
       "      <td>541.0</td>\n",
       "      <td>157.0</td>\n",
       "      <td>2008-08-02 19:06:40+00:00</td>\n",
       "      <td>535.0</td>\n",
       "      <td>20.0</td>\n",
       "      <td>&lt;p&gt;We run &lt;a href=\"http://buildbot.net/trac\"&gt;B...</td>\n",
       "      <td>We run Buildbot - Trac at work, I haven't used...</td>\n",
       "    </tr>\n",
       "    <tr>\n",
       "      <th>9</th>\n",
       "      <td>535</td>\n",
       "      <td>154.0</td>\n",
       "      <td>2008-08-02 18:43:54+00:00</td>\n",
       "      <td>40</td>\n",
       "      <td>Continuous Integration System for a Python Cod...</td>\n",
       "      <td>&lt;p&gt;I'm starting work on a hobby project with a...</td>\n",
       "      <td>I'm starting work on a hobby project with a py...</td>\n",
       "      <td>Continuous Integration System for a Python Cod...</td>\n",
       "      <td>660.0</td>\n",
       "      <td>197.0</td>\n",
       "      <td>2008-08-03 12:09:18+00:00</td>\n",
       "      <td>535.0</td>\n",
       "      <td>14.0</td>\n",
       "      <td>&lt;p&gt;Second the Buildbot - Trac integration. You...</td>\n",
       "      <td>Second the Buildbot - Trac integration. You ca...</td>\n",
       "    </tr>\n",
       "  </tbody>\n",
       "</table>\n",
       "</div>"
      ],
      "text/plain": [
       "   Id_question  OwnerUserId_question     CreationDate_question  \\\n",
       "0          469                 147.0 2008-08-02 15:11:16+00:00   \n",
       "1          469                 147.0 2008-08-02 15:11:16+00:00   \n",
       "2          469                 147.0 2008-08-02 15:11:16+00:00   \n",
       "3          469                 147.0 2008-08-02 15:11:16+00:00   \n",
       "4          502                 147.0 2008-08-02 17:01:58+00:00   \n",
       "5          502                 147.0 2008-08-02 17:01:58+00:00   \n",
       "6          502                 147.0 2008-08-02 17:01:58+00:00   \n",
       "7          535                 154.0 2008-08-02 18:43:54+00:00   \n",
       "8          535                 154.0 2008-08-02 18:43:54+00:00   \n",
       "9          535                 154.0 2008-08-02 18:43:54+00:00   \n",
       "\n",
       "   Score_question                                              Title  \\\n",
       "0              21  How can I find the full path to a font from it...   \n",
       "1              21  How can I find the full path to a font from it...   \n",
       "2              21  How can I find the full path to a font from it...   \n",
       "3              21  How can I find the full path to a font from it...   \n",
       "4              27            Get a preview JPEG of a PDF on Windows?   \n",
       "5              27            Get a preview JPEG of a PDF on Windows?   \n",
       "6              27            Get a preview JPEG of a PDF on Windows?   \n",
       "7              40  Continuous Integration System for a Python Cod...   \n",
       "8              40  Continuous Integration System for a Python Cod...   \n",
       "9              40  Continuous Integration System for a Python Cod...   \n",
       "\n",
       "                                       Body_question  \\\n",
       "0  <p>I am using the Photoshop's javascript API t...   \n",
       "1  <p>I am using the Photoshop's javascript API t...   \n",
       "2  <p>I am using the Photoshop's javascript API t...   \n",
       "3  <p>I am using the Photoshop's javascript API t...   \n",
       "4  <p>I have a cross-platform (Python) applicatio...   \n",
       "5  <p>I have a cross-platform (Python) applicatio...   \n",
       "6  <p>I have a cross-platform (Python) applicatio...   \n",
       "7  <p>I'm starting work on a hobby project with a...   \n",
       "8  <p>I'm starting work on a hobby project with a...   \n",
       "9  <p>I'm starting work on a hobby project with a...   \n",
       "\n",
       "                                   cleaned_questions  \\\n",
       "0  I am using the Photoshop's javascript API to f...   \n",
       "1  I am using the Photoshop's javascript API to f...   \n",
       "2  I am using the Photoshop's javascript API to f...   \n",
       "3  I am using the Photoshop's javascript API to f...   \n",
       "4  I have a cross-platform (Python) application w...   \n",
       "5  I have a cross-platform (Python) application w...   \n",
       "6  I have a cross-platform (Python) application w...   \n",
       "7  I'm starting work on a hobby project with a py...   \n",
       "8  I'm starting work on a hobby project with a py...   \n",
       "9  I'm starting work on a hobby project with a py...   \n",
       "\n",
       "                                       cleaned_title  Id_answer  \\\n",
       "0  How can I find the full path to a font from it...      497.0   \n",
       "1  How can I find the full path to a font from it...      518.0   \n",
       "2  How can I find the full path to a font from it...     3040.0   \n",
       "3  How can I find the full path to a font from it...   195170.0   \n",
       "4            Get a preview JPEG of a PDF on Windows?      536.0   \n",
       "5            Get a preview JPEG of a PDF on Windows?     7073.0   \n",
       "6            Get a preview JPEG of a PDF on Windows?     7090.0   \n",
       "7  Continuous Integration System for a Python Cod...      538.0   \n",
       "8  Continuous Integration System for a Python Cod...      541.0   \n",
       "9  Continuous Integration System for a Python Cod...      660.0   \n",
       "\n",
       "   OwnerUserId_answer       CreationDate_answer  ParentId  Score_answer  \\\n",
       "0                50.0 2008-08-02 16:56:53+00:00     469.0           4.0   \n",
       "1               153.0 2008-08-02 17:42:28+00:00     469.0           2.0   \n",
       "2               457.0 2008-08-06 03:01:23+00:00     469.0          12.0   \n",
       "3               745.0 2008-10-12 07:02:40+00:00     469.0           1.0   \n",
       "4               161.0 2008-08-02 18:49:07+00:00     502.0           9.0   \n",
       "5               878.0 2008-08-10 07:10:19+00:00     502.0           2.0   \n",
       "6                13.0 2008-08-10 08:08:33+00:00     502.0          25.0   \n",
       "7               156.0 2008-08-02 18:56:56+00:00     535.0          23.0   \n",
       "8               157.0 2008-08-02 19:06:40+00:00     535.0          20.0   \n",
       "9               197.0 2008-08-03 12:09:18+00:00     535.0          14.0   \n",
       "\n",
       "                                         Body_answer  \\\n",
       "0  <p>open up a terminal (Applications-&gt;Utilit...   \n",
       "1  <p>I haven't been able to find anything that d...   \n",
       "2  <p>Unfortunately the only API that isn't depre...   \n",
       "3  <p>There must be a method in Cocoa to get a li...   \n",
       "4  <p>You can use ImageMagick's convert utility f...   \n",
       "5  <p>Is the PC likely to have Acrobat installed?...   \n",
       "6  <p>ImageMagick delegates the PDF->bitmap conve...   \n",
       "7  <p>One possibility is Hudson.  It's written in...   \n",
       "8  <p>We run <a href=\"http://buildbot.net/trac\">B...   \n",
       "9  <p>Second the Buildbot - Trac integration. You...   \n",
       "\n",
       "                                     cleaned_answers  \n",
       "0  open up a terminal (Applications->Utilities->T...  \n",
       "1  I haven't been able to find anything that does...  \n",
       "2  Unfortunately the only API that isn't deprecat...  \n",
       "3  There must be a method in Cocoa to get a list ...  \n",
       "4  You can use ImageMagick's convert utility for ...  \n",
       "5  Is the PC likely to have Acrobat installed? I ...  \n",
       "6  ImageMagick delegates the PDF->bitmap conversi...  \n",
       "7  One possibility is Hudson. It's written in Jav...  \n",
       "8  We run Buildbot - Trac at work, I haven't used...  \n",
       "9  Second the Buildbot - Trac integration. You ca...  "
      ]
     },
     "execution_count": 37,
     "metadata": {},
     "output_type": "execute_result"
    }
   ],
   "source": [
    "merged_df.head(10)"
   ]
  },
  {
   "cell_type": "code",
   "execution_count": 180,
   "id": "deae52a1",
   "metadata": {},
   "outputs": [],
   "source": [
    "merged_df['title_question_answer'] = merged_df['Title'] + merged_df['Body_question'] + merged_df['Body_answer']"
   ]
  },
  {
   "cell_type": "markdown",
   "id": "98d5bd90",
   "metadata": {},
   "source": [
    "Viewing a Sample"
   ]
  },
  {
   "cell_type": "code",
   "execution_count": 181,
   "id": "7557749a",
   "metadata": {},
   "outputs": [
    {
     "name": "stdout",
     "output_type": "stream",
     "text": [
      "How can I find the full path to a font from its display name on a Mac?<p>I am using the Photoshop's javascript API to find the fonts in a given PSD.</p>\n",
      "\n",
      "<p>Given a font name returned by the API, I want to find the actual physical font file that that font name corresponds to on the disc.</p>\n",
      "\n",
      "<p>This is all happening in a python program running on OSX so I guess I'm looking for one of:</p>\n",
      "\n",
      "<ul>\n",
      "<li>Some Photoshop javascript</li>\n",
      "<li>A Python function</li>\n",
      "<li>An OSX API that I can call from python</li>\n",
      "</ul>\n",
      "<p>I haven't been able to find anything that does this directly.  I think you'll have to iterate through the various font folders on the system: <code>/System/Library/Fonts</code>, <code>/Library/Fonts</code>, and there can probably be a user-level directory as well <code>~/Library/Fonts</code>.</p>\n",
      "\n"
     ]
    }
   ],
   "source": [
    "print(merged_df['title_question_answer'][1])"
   ]
  },
  {
   "cell_type": "code",
   "execution_count": 238,
   "id": "ca75f85d",
   "metadata": {},
   "outputs": [
    {
     "name": "stdout",
     "output_type": "stream",
     "text": [
      "How can I find the full path to a font from its display name on a Mac?<p>I am using the Photoshop's javascript API to find the fonts in a given PSD.</p>\n",
      "\n",
      "<p>Given a font name returned by the API, I want to find the actual physical font file that that font name corresponds to on the disc.</p>\n",
      "\n",
      "<p>This is all happening in a python program running on OSX so I guess I'm looking for one of:</p>\n",
      "\n",
      "<ul>\n",
      "<li>Some Photoshop javascript</li>\n",
      "<li>A Python function</li>\n",
      "<li>An OSX API that I can call from python</li>\n",
      "</ul>\n",
      "<p>open up a terminal (Applications-&gt;Utilities-&gt;Terminal) and type this in:</p>\r\n",
      "\r\n",
      "<pre><code>locate InsertFontHere<br></code></pre>\r\n",
      "\r\n",
      "<p>This will spit out every file that has the name you want.</p>\r\n",
      "\r\n",
      "<p>Warning: there may be alot to wade through.</p>\n"
     ]
    }
   ],
   "source": [
    "print(merged_df['clean_df'][1])"
   ]
  },
  {
   "cell_type": "code",
   "execution_count": 217,
   "id": "50c9ea19",
   "metadata": {},
   "outputs": [
    {
     "data": {
      "text/html": [
       "<div>\n",
       "<style scoped>\n",
       "    .dataframe tbody tr th:only-of-type {\n",
       "        vertical-align: middle;\n",
       "    }\n",
       "\n",
       "    .dataframe tbody tr th {\n",
       "        vertical-align: top;\n",
       "    }\n",
       "\n",
       "    .dataframe thead th {\n",
       "        text-align: right;\n",
       "    }\n",
       "</style>\n",
       "<table border=\"1\" class=\"dataframe\">\n",
       "  <thead>\n",
       "    <tr style=\"text-align: right;\">\n",
       "      <th></th>\n",
       "      <th>Id_question</th>\n",
       "      <th>OwnerUserId_question</th>\n",
       "      <th>CreationDate_question</th>\n",
       "      <th>Score_question</th>\n",
       "      <th>Title</th>\n",
       "      <th>Body_question</th>\n",
       "      <th>Id_answer</th>\n",
       "      <th>OwnerUserId_answer</th>\n",
       "      <th>CreationDate_answer</th>\n",
       "      <th>ParentId</th>\n",
       "      <th>Score_answer</th>\n",
       "      <th>Body_answer</th>\n",
       "      <th>title_question_answer</th>\n",
       "      <th>cleaner_data</th>\n",
       "      <th>Id</th>\n",
       "      <th>Tag</th>\n",
       "      <th>clean_df</th>\n",
       "    </tr>\n",
       "  </thead>\n",
       "  <tbody>\n",
       "    <tr>\n",
       "      <th>0</th>\n",
       "      <td>469</td>\n",
       "      <td>147.0</td>\n",
       "      <td>2008-08-02T15:11:16Z</td>\n",
       "      <td>21</td>\n",
       "      <td>How can I find the full path to a font from it...</td>\n",
       "      <td>&lt;p&gt;I am using the Photoshop's javascript API t...</td>\n",
       "      <td>497.0</td>\n",
       "      <td>50.0</td>\n",
       "      <td>2008-08-02T16:56:53Z</td>\n",
       "      <td>469.0</td>\n",
       "      <td>4.0</td>\n",
       "      <td>&lt;p&gt;open up a terminal (Applications-&amp;gt;Utilit...</td>\n",
       "      <td>How can I find the full path to a font from it...</td>\n",
       "      <td>How can I find the full path to a font from it...</td>\n",
       "      <td>469</td>\n",
       "      <td>python</td>\n",
       "      <td>None</td>\n",
       "    </tr>\n",
       "    <tr>\n",
       "      <th>1</th>\n",
       "      <td>469</td>\n",
       "      <td>147.0</td>\n",
       "      <td>2008-08-02T15:11:16Z</td>\n",
       "      <td>21</td>\n",
       "      <td>How can I find the full path to a font from it...</td>\n",
       "      <td>&lt;p&gt;I am using the Photoshop's javascript API t...</td>\n",
       "      <td>497.0</td>\n",
       "      <td>50.0</td>\n",
       "      <td>2008-08-02T16:56:53Z</td>\n",
       "      <td>469.0</td>\n",
       "      <td>4.0</td>\n",
       "      <td>&lt;p&gt;open up a terminal (Applications-&amp;gt;Utilit...</td>\n",
       "      <td>How can I find the full path to a font from it...</td>\n",
       "      <td>How can I find the full path to a font from it...</td>\n",
       "      <td>469</td>\n",
       "      <td>osx</td>\n",
       "      <td>None</td>\n",
       "    </tr>\n",
       "    <tr>\n",
       "      <th>2</th>\n",
       "      <td>469</td>\n",
       "      <td>147.0</td>\n",
       "      <td>2008-08-02T15:11:16Z</td>\n",
       "      <td>21</td>\n",
       "      <td>How can I find the full path to a font from it...</td>\n",
       "      <td>&lt;p&gt;I am using the Photoshop's javascript API t...</td>\n",
       "      <td>497.0</td>\n",
       "      <td>50.0</td>\n",
       "      <td>2008-08-02T16:56:53Z</td>\n",
       "      <td>469.0</td>\n",
       "      <td>4.0</td>\n",
       "      <td>&lt;p&gt;open up a terminal (Applications-&amp;gt;Utilit...</td>\n",
       "      <td>How can I find the full path to a font from it...</td>\n",
       "      <td>How can I find the full path to a font from it...</td>\n",
       "      <td>469</td>\n",
       "      <td>fonts</td>\n",
       "      <td>None</td>\n",
       "    </tr>\n",
       "    <tr>\n",
       "      <th>3</th>\n",
       "      <td>469</td>\n",
       "      <td>147.0</td>\n",
       "      <td>2008-08-02T15:11:16Z</td>\n",
       "      <td>21</td>\n",
       "      <td>How can I find the full path to a font from it...</td>\n",
       "      <td>&lt;p&gt;I am using the Photoshop's javascript API t...</td>\n",
       "      <td>497.0</td>\n",
       "      <td>50.0</td>\n",
       "      <td>2008-08-02T16:56:53Z</td>\n",
       "      <td>469.0</td>\n",
       "      <td>4.0</td>\n",
       "      <td>&lt;p&gt;open up a terminal (Applications-&amp;gt;Utilit...</td>\n",
       "      <td>How can I find the full path to a font from it...</td>\n",
       "      <td>How can I find the full path to a font from it...</td>\n",
       "      <td>469</td>\n",
       "      <td>photoshop</td>\n",
       "      <td>None</td>\n",
       "    </tr>\n",
       "    <tr>\n",
       "      <th>4</th>\n",
       "      <td>469</td>\n",
       "      <td>147.0</td>\n",
       "      <td>2008-08-02T15:11:16Z</td>\n",
       "      <td>21</td>\n",
       "      <td>How can I find the full path to a font from it...</td>\n",
       "      <td>&lt;p&gt;I am using the Photoshop's javascript API t...</td>\n",
       "      <td>518.0</td>\n",
       "      <td>153.0</td>\n",
       "      <td>2008-08-02T17:42:28Z</td>\n",
       "      <td>469.0</td>\n",
       "      <td>2.0</td>\n",
       "      <td>&lt;p&gt;I haven't been able to find anything that d...</td>\n",
       "      <td>How can I find the full path to a font from it...</td>\n",
       "      <td>How can I find the full path to a font from it...</td>\n",
       "      <td>469</td>\n",
       "      <td>python</td>\n",
       "      <td>None</td>\n",
       "    </tr>\n",
       "  </tbody>\n",
       "</table>\n",
       "</div>"
      ],
      "text/plain": [
       "   Id_question  OwnerUserId_question CreationDate_question  Score_question  \\\n",
       "0          469                 147.0  2008-08-02T15:11:16Z              21   \n",
       "1          469                 147.0  2008-08-02T15:11:16Z              21   \n",
       "2          469                 147.0  2008-08-02T15:11:16Z              21   \n",
       "3          469                 147.0  2008-08-02T15:11:16Z              21   \n",
       "4          469                 147.0  2008-08-02T15:11:16Z              21   \n",
       "\n",
       "                                               Title  \\\n",
       "0  How can I find the full path to a font from it...   \n",
       "1  How can I find the full path to a font from it...   \n",
       "2  How can I find the full path to a font from it...   \n",
       "3  How can I find the full path to a font from it...   \n",
       "4  How can I find the full path to a font from it...   \n",
       "\n",
       "                                       Body_question  Id_answer  \\\n",
       "0  <p>I am using the Photoshop's javascript API t...      497.0   \n",
       "1  <p>I am using the Photoshop's javascript API t...      497.0   \n",
       "2  <p>I am using the Photoshop's javascript API t...      497.0   \n",
       "3  <p>I am using the Photoshop's javascript API t...      497.0   \n",
       "4  <p>I am using the Photoshop's javascript API t...      518.0   \n",
       "\n",
       "   OwnerUserId_answer   CreationDate_answer  ParentId  Score_answer  \\\n",
       "0                50.0  2008-08-02T16:56:53Z     469.0           4.0   \n",
       "1                50.0  2008-08-02T16:56:53Z     469.0           4.0   \n",
       "2                50.0  2008-08-02T16:56:53Z     469.0           4.0   \n",
       "3                50.0  2008-08-02T16:56:53Z     469.0           4.0   \n",
       "4               153.0  2008-08-02T17:42:28Z     469.0           2.0   \n",
       "\n",
       "                                         Body_answer  \\\n",
       "0  <p>open up a terminal (Applications-&gt;Utilit...   \n",
       "1  <p>open up a terminal (Applications-&gt;Utilit...   \n",
       "2  <p>open up a terminal (Applications-&gt;Utilit...   \n",
       "3  <p>open up a terminal (Applications-&gt;Utilit...   \n",
       "4  <p>I haven't been able to find anything that d...   \n",
       "\n",
       "                               title_question_answer  \\\n",
       "0  How can I find the full path to a font from it...   \n",
       "1  How can I find the full path to a font from it...   \n",
       "2  How can I find the full path to a font from it...   \n",
       "3  How can I find the full path to a font from it...   \n",
       "4  How can I find the full path to a font from it...   \n",
       "\n",
       "                                        cleaner_data   Id        Tag clean_df  \n",
       "0  How can I find the full path to a font from it...  469     python     None  \n",
       "1  How can I find the full path to a font from it...  469        osx     None  \n",
       "2  How can I find the full path to a font from it...  469      fonts     None  \n",
       "3  How can I find the full path to a font from it...  469  photoshop     None  \n",
       "4  How can I find the full path to a font from it...  469     python     None  "
      ]
     },
     "execution_count": 217,
     "metadata": {},
     "output_type": "execute_result"
    }
   ],
   "source": [
    "merged_df.head()"
   ]
  },
  {
   "cell_type": "code",
   "execution_count": 215,
   "id": "8fcfe517",
   "metadata": {},
   "outputs": [
    {
     "name": "stdout",
     "output_type": "stream",
     "text": [
      "None\n"
     ]
    }
   ],
   "source": [
    "print(merged_df['clean_df'][0])"
   ]
  },
  {
   "cell_type": "code",
   "execution_count": 183,
   "id": "81b568a9",
   "metadata": {},
   "outputs": [
    {
     "name": "stdout",
     "output_type": "stream",
     "text": [
      "How can I find the full path to a font from its display name on a Mac?<p>I am using the Photoshop's javascript API to find the fonts in a given PSD.</p>\n",
      "\n",
      "<p>Given a font name returned by the API, I want to find the actual physical font file that that font name corresponds to on the disc.</p>\n",
      "\n",
      "<p>This is all happening in a python program running on OSX so I guess I'm looking for one of:</p>\n",
      "\n",
      "<ul>\n",
      "<li>Some Photoshop javascript</li>\n",
      "<li>A Python function</li>\n",
      "<li>An OSX API that I can call from python</li>\n",
      "</ul>\n",
      "<p>I haven't been able to find anything that does this directly.  I think you'll have to iterate through the various font folders on the system: <code>/System/Library/Fonts</code>, <code>/Library/Fonts</code>, and there can probably be a user-level directory as well <code>~/Library/Fonts</code>.</p>\n",
      "\n"
     ]
    }
   ],
   "source": [
    "print(merged_df['cleaner_data'][1])"
   ]
  },
  {
   "cell_type": "code",
   "execution_count": 184,
   "id": "7e354bed",
   "metadata": {},
   "outputs": [],
   "source": [
    "merged_df = pd.merge(merged_df, tags, left_on='Id_question', right_on='Id', how='left')"
   ]
  },
  {
   "cell_type": "code",
   "execution_count": 185,
   "id": "05e8b4c8",
   "metadata": {},
   "outputs": [
    {
     "data": {
      "text/html": [
       "<div>\n",
       "<style scoped>\n",
       "    .dataframe tbody tr th:only-of-type {\n",
       "        vertical-align: middle;\n",
       "    }\n",
       "\n",
       "    .dataframe tbody tr th {\n",
       "        vertical-align: top;\n",
       "    }\n",
       "\n",
       "    .dataframe thead th {\n",
       "        text-align: right;\n",
       "    }\n",
       "</style>\n",
       "<table border=\"1\" class=\"dataframe\">\n",
       "  <thead>\n",
       "    <tr style=\"text-align: right;\">\n",
       "      <th></th>\n",
       "      <th>Id_question</th>\n",
       "      <th>OwnerUserId_question</th>\n",
       "      <th>CreationDate_question</th>\n",
       "      <th>Score_question</th>\n",
       "      <th>Title</th>\n",
       "      <th>Body_question</th>\n",
       "      <th>Id_answer</th>\n",
       "      <th>OwnerUserId_answer</th>\n",
       "      <th>CreationDate_answer</th>\n",
       "      <th>ParentId</th>\n",
       "      <th>Score_answer</th>\n",
       "      <th>Body_answer</th>\n",
       "      <th>title_question_answer</th>\n",
       "      <th>cleaner_data</th>\n",
       "      <th>Id</th>\n",
       "      <th>Tag</th>\n",
       "    </tr>\n",
       "  </thead>\n",
       "  <tbody>\n",
       "    <tr>\n",
       "      <th>0</th>\n",
       "      <td>469</td>\n",
       "      <td>147.0</td>\n",
       "      <td>2008-08-02T15:11:16Z</td>\n",
       "      <td>21</td>\n",
       "      <td>How can I find the full path to a font from it...</td>\n",
       "      <td>&lt;p&gt;I am using the Photoshop's javascript API t...</td>\n",
       "      <td>497.0</td>\n",
       "      <td>50.0</td>\n",
       "      <td>2008-08-02T16:56:53Z</td>\n",
       "      <td>469.0</td>\n",
       "      <td>4.0</td>\n",
       "      <td>&lt;p&gt;open up a terminal (Applications-&amp;gt;Utilit...</td>\n",
       "      <td>How can I find the full path to a font from it...</td>\n",
       "      <td>How can I find the full path to a font from it...</td>\n",
       "      <td>469</td>\n",
       "      <td>python</td>\n",
       "    </tr>\n",
       "    <tr>\n",
       "      <th>1</th>\n",
       "      <td>469</td>\n",
       "      <td>147.0</td>\n",
       "      <td>2008-08-02T15:11:16Z</td>\n",
       "      <td>21</td>\n",
       "      <td>How can I find the full path to a font from it...</td>\n",
       "      <td>&lt;p&gt;I am using the Photoshop's javascript API t...</td>\n",
       "      <td>497.0</td>\n",
       "      <td>50.0</td>\n",
       "      <td>2008-08-02T16:56:53Z</td>\n",
       "      <td>469.0</td>\n",
       "      <td>4.0</td>\n",
       "      <td>&lt;p&gt;open up a terminal (Applications-&amp;gt;Utilit...</td>\n",
       "      <td>How can I find the full path to a font from it...</td>\n",
       "      <td>How can I find the full path to a font from it...</td>\n",
       "      <td>469</td>\n",
       "      <td>osx</td>\n",
       "    </tr>\n",
       "    <tr>\n",
       "      <th>2</th>\n",
       "      <td>469</td>\n",
       "      <td>147.0</td>\n",
       "      <td>2008-08-02T15:11:16Z</td>\n",
       "      <td>21</td>\n",
       "      <td>How can I find the full path to a font from it...</td>\n",
       "      <td>&lt;p&gt;I am using the Photoshop's javascript API t...</td>\n",
       "      <td>497.0</td>\n",
       "      <td>50.0</td>\n",
       "      <td>2008-08-02T16:56:53Z</td>\n",
       "      <td>469.0</td>\n",
       "      <td>4.0</td>\n",
       "      <td>&lt;p&gt;open up a terminal (Applications-&amp;gt;Utilit...</td>\n",
       "      <td>How can I find the full path to a font from it...</td>\n",
       "      <td>How can I find the full path to a font from it...</td>\n",
       "      <td>469</td>\n",
       "      <td>fonts</td>\n",
       "    </tr>\n",
       "    <tr>\n",
       "      <th>3</th>\n",
       "      <td>469</td>\n",
       "      <td>147.0</td>\n",
       "      <td>2008-08-02T15:11:16Z</td>\n",
       "      <td>21</td>\n",
       "      <td>How can I find the full path to a font from it...</td>\n",
       "      <td>&lt;p&gt;I am using the Photoshop's javascript API t...</td>\n",
       "      <td>497.0</td>\n",
       "      <td>50.0</td>\n",
       "      <td>2008-08-02T16:56:53Z</td>\n",
       "      <td>469.0</td>\n",
       "      <td>4.0</td>\n",
       "      <td>&lt;p&gt;open up a terminal (Applications-&amp;gt;Utilit...</td>\n",
       "      <td>How can I find the full path to a font from it...</td>\n",
       "      <td>How can I find the full path to a font from it...</td>\n",
       "      <td>469</td>\n",
       "      <td>photoshop</td>\n",
       "    </tr>\n",
       "    <tr>\n",
       "      <th>4</th>\n",
       "      <td>469</td>\n",
       "      <td>147.0</td>\n",
       "      <td>2008-08-02T15:11:16Z</td>\n",
       "      <td>21</td>\n",
       "      <td>How can I find the full path to a font from it...</td>\n",
       "      <td>&lt;p&gt;I am using the Photoshop's javascript API t...</td>\n",
       "      <td>518.0</td>\n",
       "      <td>153.0</td>\n",
       "      <td>2008-08-02T17:42:28Z</td>\n",
       "      <td>469.0</td>\n",
       "      <td>2.0</td>\n",
       "      <td>&lt;p&gt;I haven't been able to find anything that d...</td>\n",
       "      <td>How can I find the full path to a font from it...</td>\n",
       "      <td>How can I find the full path to a font from it...</td>\n",
       "      <td>469</td>\n",
       "      <td>python</td>\n",
       "    </tr>\n",
       "  </tbody>\n",
       "</table>\n",
       "</div>"
      ],
      "text/plain": [
       "   Id_question  OwnerUserId_question CreationDate_question  Score_question  \\\n",
       "0          469                 147.0  2008-08-02T15:11:16Z              21   \n",
       "1          469                 147.0  2008-08-02T15:11:16Z              21   \n",
       "2          469                 147.0  2008-08-02T15:11:16Z              21   \n",
       "3          469                 147.0  2008-08-02T15:11:16Z              21   \n",
       "4          469                 147.0  2008-08-02T15:11:16Z              21   \n",
       "\n",
       "                                               Title  \\\n",
       "0  How can I find the full path to a font from it...   \n",
       "1  How can I find the full path to a font from it...   \n",
       "2  How can I find the full path to a font from it...   \n",
       "3  How can I find the full path to a font from it...   \n",
       "4  How can I find the full path to a font from it...   \n",
       "\n",
       "                                       Body_question  Id_answer  \\\n",
       "0  <p>I am using the Photoshop's javascript API t...      497.0   \n",
       "1  <p>I am using the Photoshop's javascript API t...      497.0   \n",
       "2  <p>I am using the Photoshop's javascript API t...      497.0   \n",
       "3  <p>I am using the Photoshop's javascript API t...      497.0   \n",
       "4  <p>I am using the Photoshop's javascript API t...      518.0   \n",
       "\n",
       "   OwnerUserId_answer   CreationDate_answer  ParentId  Score_answer  \\\n",
       "0                50.0  2008-08-02T16:56:53Z     469.0           4.0   \n",
       "1                50.0  2008-08-02T16:56:53Z     469.0           4.0   \n",
       "2                50.0  2008-08-02T16:56:53Z     469.0           4.0   \n",
       "3                50.0  2008-08-02T16:56:53Z     469.0           4.0   \n",
       "4               153.0  2008-08-02T17:42:28Z     469.0           2.0   \n",
       "\n",
       "                                         Body_answer  \\\n",
       "0  <p>open up a terminal (Applications-&gt;Utilit...   \n",
       "1  <p>open up a terminal (Applications-&gt;Utilit...   \n",
       "2  <p>open up a terminal (Applications-&gt;Utilit...   \n",
       "3  <p>open up a terminal (Applications-&gt;Utilit...   \n",
       "4  <p>I haven't been able to find anything that d...   \n",
       "\n",
       "                               title_question_answer  \\\n",
       "0  How can I find the full path to a font from it...   \n",
       "1  How can I find the full path to a font from it...   \n",
       "2  How can I find the full path to a font from it...   \n",
       "3  How can I find the full path to a font from it...   \n",
       "4  How can I find the full path to a font from it...   \n",
       "\n",
       "                                        cleaner_data   Id        Tag  \n",
       "0  How can I find the full path to a font from it...  469     python  \n",
       "1  How can I find the full path to a font from it...  469        osx  \n",
       "2  How can I find the full path to a font from it...  469      fonts  \n",
       "3  How can I find the full path to a font from it...  469  photoshop  \n",
       "4  How can I find the full path to a font from it...  469     python  "
      ]
     },
     "execution_count": 185,
     "metadata": {},
     "output_type": "execute_result"
    }
   ],
   "source": [
    "merged_df.head()"
   ]
  },
  {
   "cell_type": "code",
   "execution_count": null,
   "id": "da2c0ce3",
   "metadata": {},
   "outputs": [],
   "source": []
  },
  {
   "cell_type": "code",
   "execution_count": 193,
   "id": "3f9fedc8",
   "metadata": {},
   "outputs": [],
   "source": [
    "import torch\n",
    "from transformers import BertForQuestionAnswering, BertTokenizer\n",
    "import spacy\n",
    "import random"
   ]
  },
  {
   "cell_type": "code",
   "execution_count": 187,
   "id": "180c48ff",
   "metadata": {},
   "outputs": [
    {
     "name": "stdout",
     "output_type": "stream",
     "text": [
      "Collecting en-core-web-sm==3.6.0\n",
      "  Downloading https://github.com/explosion/spacy-models/releases/download/en_core_web_sm-3.6.0/en_core_web_sm-3.6.0-py3-none-any.whl (12.8 MB)\n",
      "     --------------------------------------- 12.8/12.8 MB 10.7 MB/s eta 0:00:00\n",
      "Requirement already satisfied: spacy<3.7.0,>=3.6.0 in c:\\users\\15135\\appdata\\local\\anaconda3\\lib\\site-packages (from en-core-web-sm==3.6.0) (3.6.1)\n",
      "Requirement already satisfied: langcodes<4.0.0,>=3.2.0 in c:\\users\\15135\\appdata\\local\\anaconda3\\lib\\site-packages (from spacy<3.7.0,>=3.6.0->en-core-web-sm==3.6.0) (3.3.0)\n",
      "Requirement already satisfied: spacy-legacy<3.1.0,>=3.0.11 in c:\\users\\15135\\appdata\\local\\anaconda3\\lib\\site-packages (from spacy<3.7.0,>=3.6.0->en-core-web-sm==3.6.0) (3.0.12)\n",
      "Requirement already satisfied: tqdm<5.0.0,>=4.38.0 in c:\\users\\15135\\appdata\\local\\anaconda3\\lib\\site-packages (from spacy<3.7.0,>=3.6.0->en-core-web-sm==3.6.0) (4.65.0)\n",
      "Requirement already satisfied: numpy>=1.15.0 in c:\\users\\15135\\appdata\\local\\anaconda3\\lib\\site-packages (from spacy<3.7.0,>=3.6.0->en-core-web-sm==3.6.0) (1.25.2)\n",
      "Requirement already satisfied: preshed<3.1.0,>=3.0.2 in c:\\users\\15135\\appdata\\local\\anaconda3\\lib\\site-packages (from spacy<3.7.0,>=3.6.0->en-core-web-sm==3.6.0) (3.0.9)\n",
      "Requirement already satisfied: jinja2 in c:\\users\\15135\\appdata\\local\\anaconda3\\lib\\site-packages (from spacy<3.7.0,>=3.6.0->en-core-web-sm==3.6.0) (3.1.2)\n",
      "Requirement already satisfied: packaging>=20.0 in c:\\users\\15135\\appdata\\local\\anaconda3\\lib\\site-packages (from spacy<3.7.0,>=3.6.0->en-core-web-sm==3.6.0) (23.1)\n",
      "Requirement already satisfied: typer<0.10.0,>=0.3.0 in c:\\users\\15135\\appdata\\local\\anaconda3\\lib\\site-packages (from spacy<3.7.0,>=3.6.0->en-core-web-sm==3.6.0) (0.9.0)\n",
      "Requirement already satisfied: thinc<8.2.0,>=8.1.8 in c:\\users\\15135\\appdata\\local\\anaconda3\\lib\\site-packages (from spacy<3.7.0,>=3.6.0->en-core-web-sm==3.6.0) (8.1.12)\n",
      "Requirement already satisfied: pathy>=0.10.0 in c:\\users\\15135\\appdata\\local\\anaconda3\\lib\\site-packages (from spacy<3.7.0,>=3.6.0->en-core-web-sm==3.6.0) (0.10.2)\n",
      "Requirement already satisfied: wasabi<1.2.0,>=0.9.1 in c:\\users\\15135\\appdata\\local\\anaconda3\\lib\\site-packages (from spacy<3.7.0,>=3.6.0->en-core-web-sm==3.6.0) (1.1.2)\n",
      "Requirement already satisfied: smart-open<7.0.0,>=5.2.1 in c:\\users\\15135\\appdata\\local\\anaconda3\\lib\\site-packages (from spacy<3.7.0,>=3.6.0->en-core-web-sm==3.6.0) (6.4.0)\n",
      "Requirement already satisfied: cymem<2.1.0,>=2.0.2 in c:\\users\\15135\\appdata\\local\\anaconda3\\lib\\site-packages (from spacy<3.7.0,>=3.6.0->en-core-web-sm==3.6.0) (2.0.8)\n",
      "Requirement already satisfied: requests<3.0.0,>=2.13.0 in c:\\users\\15135\\appdata\\local\\anaconda3\\lib\\site-packages (from spacy<3.7.0,>=3.6.0->en-core-web-sm==3.6.0) (2.31.0)\n",
      "Requirement already satisfied: spacy-loggers<2.0.0,>=1.0.0 in c:\\users\\15135\\appdata\\local\\anaconda3\\lib\\site-packages (from spacy<3.7.0,>=3.6.0->en-core-web-sm==3.6.0) (1.0.5)\n",
      "Requirement already satisfied: pydantic!=1.8,!=1.8.1,<3.0.0,>=1.7.4 in c:\\users\\15135\\appdata\\local\\anaconda3\\lib\\site-packages (from spacy<3.7.0,>=3.6.0->en-core-web-sm==3.6.0) (2.3.0)\n",
      "Requirement already satisfied: setuptools in c:\\users\\15135\\appdata\\local\\anaconda3\\lib\\site-packages (from spacy<3.7.0,>=3.6.0->en-core-web-sm==3.6.0) (65.6.3)\n",
      "Requirement already satisfied: srsly<3.0.0,>=2.4.3 in c:\\users\\15135\\appdata\\local\\anaconda3\\lib\\site-packages (from spacy<3.7.0,>=3.6.0->en-core-web-sm==3.6.0) (2.4.7)\n",
      "Requirement already satisfied: murmurhash<1.1.0,>=0.28.0 in c:\\users\\15135\\appdata\\local\\anaconda3\\lib\\site-packages (from spacy<3.7.0,>=3.6.0->en-core-web-sm==3.6.0) (1.0.10)\n",
      "Requirement already satisfied: catalogue<2.1.0,>=2.0.6 in c:\\users\\15135\\appdata\\local\\anaconda3\\lib\\site-packages (from spacy<3.7.0,>=3.6.0->en-core-web-sm==3.6.0) (2.0.9)\n",
      "Requirement already satisfied: annotated-types>=0.4.0 in c:\\users\\15135\\appdata\\local\\anaconda3\\lib\\site-packages (from pydantic!=1.8,!=1.8.1,<3.0.0,>=1.7.4->spacy<3.7.0,>=3.6.0->en-core-web-sm==3.6.0) (0.5.0)\n",
      "Requirement already satisfied: pydantic-core==2.6.3 in c:\\users\\15135\\appdata\\local\\anaconda3\\lib\\site-packages (from pydantic!=1.8,!=1.8.1,<3.0.0,>=1.7.4->spacy<3.7.0,>=3.6.0->en-core-web-sm==3.6.0) (2.6.3)\n",
      "Requirement already satisfied: typing-extensions>=4.6.1 in c:\\users\\15135\\appdata\\local\\anaconda3\\lib\\site-packages (from pydantic!=1.8,!=1.8.1,<3.0.0,>=1.7.4->spacy<3.7.0,>=3.6.0->en-core-web-sm==3.6.0) (4.7.1)\n",
      "Requirement already satisfied: certifi>=2017.4.17 in c:\\users\\15135\\appdata\\local\\anaconda3\\lib\\site-packages (from requests<3.0.0,>=2.13.0->spacy<3.7.0,>=3.6.0->en-core-web-sm==3.6.0) (2023.7.22)\n",
      "Requirement already satisfied: charset-normalizer<4,>=2 in c:\\users\\15135\\appdata\\local\\anaconda3\\lib\\site-packages (from requests<3.0.0,>=2.13.0->spacy<3.7.0,>=3.6.0->en-core-web-sm==3.6.0) (2.0.4)\n",
      "Requirement already satisfied: idna<4,>=2.5 in c:\\users\\15135\\appdata\\local\\anaconda3\\lib\\site-packages (from requests<3.0.0,>=2.13.0->spacy<3.7.0,>=3.6.0->en-core-web-sm==3.6.0) (3.4)\n",
      "Requirement already satisfied: urllib3<3,>=1.21.1 in c:\\users\\15135\\appdata\\local\\anaconda3\\lib\\site-packages (from requests<3.0.0,>=2.13.0->spacy<3.7.0,>=3.6.0->en-core-web-sm==3.6.0) (1.26.16)\n",
      "Requirement already satisfied: confection<1.0.0,>=0.0.1 in c:\\users\\15135\\appdata\\local\\anaconda3\\lib\\site-packages (from thinc<8.2.0,>=8.1.8->spacy<3.7.0,>=3.6.0->en-core-web-sm==3.6.0) (0.1.3)\n",
      "Requirement already satisfied: blis<0.8.0,>=0.7.8 in c:\\users\\15135\\appdata\\local\\anaconda3\\lib\\site-packages (from thinc<8.2.0,>=8.1.8->spacy<3.7.0,>=3.6.0->en-core-web-sm==3.6.0) (0.7.10)\n",
      "Requirement already satisfied: colorama in c:\\users\\15135\\appdata\\local\\anaconda3\\lib\\site-packages (from tqdm<5.0.0,>=4.38.0->spacy<3.7.0,>=3.6.0->en-core-web-sm==3.6.0) (0.4.6)\n",
      "Requirement already satisfied: click<9.0.0,>=7.1.1 in c:\\users\\15135\\appdata\\local\\anaconda3\\lib\\site-packages (from typer<0.10.0,>=0.3.0->spacy<3.7.0,>=3.6.0->en-core-web-sm==3.6.0) (8.0.4)\n",
      "Requirement already satisfied: MarkupSafe>=2.0 in c:\\users\\15135\\appdata\\local\\anaconda3\\lib\\site-packages (from jinja2->spacy<3.7.0,>=3.6.0->en-core-web-sm==3.6.0) (2.1.1)\n",
      "\u001b[38;5;2m[+] Download and installation successful\u001b[0m\n",
      "You can now load the package via spacy.load('en_core_web_sm')\n"
     ]
    }
   ],
   "source": [
    "!python -m spacy download en_core_web_sm"
   ]
  },
  {
   "cell_type": "code",
   "execution_count": 188,
   "id": "a1df6b40",
   "metadata": {},
   "outputs": [
    {
     "name": "stdout",
     "output_type": "stream",
     "text": [
      "\n",
      "| Loading compatibility table...\n",
      "/ Loading compatibility table...\n",
      "\u001b[2K\u001b[38;5;2m[+] Loaded compatibility table\u001b[0m\n",
      "\u001b[1m\n",
      "================= Installed pipeline packages (spaCy v3.6.1) =================\u001b[0m\n",
      "\u001b[38;5;4m[i] spaCy installation:\n",
      "C:\\Users\\15135\\AppData\\Local\\anaconda3\\lib\\site-packages\\spacy\u001b[0m\n",
      "\n",
      "NAME             SPACY            VERSION                              \n",
      "en_core_web_md   >=3.6.0,<3.7.0   \u001b[38;5;2m3.6.0\u001b[0m   \u001b[38;5;2m[+]\u001b[0m\n",
      "en_core_web_sm   >=3.6.0,<3.7.0   \u001b[38;5;2m3.6.0\u001b[0m   \u001b[38;5;2m[+]\u001b[0m\n",
      "\n"
     ]
    }
   ],
   "source": [
    "!python -m spacy validate\n"
   ]
  },
  {
   "cell_type": "code",
   "execution_count": 189,
   "id": "0583cadc",
   "metadata": {},
   "outputs": [],
   "source": [
    "import spacy\n",
    "# Load the installed model \"en_core_web_sm\"\n",
    "nlp = spacy.load(\"en_core_web_sm\")"
   ]
  },
  {
   "cell_type": "code",
   "execution_count": 190,
   "id": "202a5627",
   "metadata": {},
   "outputs": [],
   "source": [
    "model = BertForQuestionAnswering.from_pretrained(\"bert-large-uncased-whole-word-masking-finetuned-squad\")\n",
    "tokenizer = BertTokenizer.from_pretrained(\"bert-large-uncased-whole-word-masking-finetuned-squad\")\n"
   ]
  },
  {
   "cell_type": "markdown",
   "id": "772a8f91",
   "metadata": {},
   "source": [
    "corpus = merged_df['title_question_answer']\n",
    "\n",
    "\n",
    "def lemmatize(text):\n",
    "    \n",
    "    doc = nlp(text.lower())\n",
    "    lemmas = []\n",
    "    for token in doc:\n",
    "        lemmas.append(token.lemma_)\n",
    "    return ' '.join(lemmas)\n",
    "\n",
    "# store the review index in the review_idx variable\n",
    "# either as a random number or a fixed value, e.g. 2557 \n",
    "review_idx = random.randint(0, len(corpus)-1)\n",
    "\n",
    "review = merged_df[review_idx]\n",
    "\n",
    "print('The original text:', review)\n",
    "print()\n",
    "print('The lemmatized text:', lemmatize(review))"
   ]
  },
  {
   "cell_type": "raw",
   "id": "af7f11ce",
   "metadata": {},
   "source": []
  },
  {
   "cell_type": "code",
   "execution_count": null,
   "id": "5079e11f",
   "metadata": {},
   "outputs": [],
   "source": [
    "raw_df['tokenized_sentences'] = raw_df['sentences'].apply(tokenizer.tokenize)"
   ]
  }
 ],
 "metadata": {
  "kernelspec": {
   "display_name": "Python 3 (ipykernel)",
   "language": "python",
   "name": "python3"
  },
  "language_info": {
   "codemirror_mode": {
    "name": "ipython",
    "version": 3
   },
   "file_extension": ".py",
   "mimetype": "text/x-python",
   "name": "python",
   "nbconvert_exporter": "python",
   "pygments_lexer": "ipython3",
   "version": "3.10.13"
  }
 },
 "nbformat": 4,
 "nbformat_minor": 5
}
